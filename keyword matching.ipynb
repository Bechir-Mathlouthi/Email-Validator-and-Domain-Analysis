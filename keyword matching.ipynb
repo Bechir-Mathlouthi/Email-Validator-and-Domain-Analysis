{
  "nbformat": 4,
  "nbformat_minor": 0,
  "metadata": {
    "colab": {
      "provenance": []
    },
    "kernelspec": {
      "name": "python3",
      "display_name": "Python 3"
    },
    "language_info": {
      "name": "python"
    }
  },
  "cells": [
    {
      "cell_type": "code",
      "source": [],
      "metadata": {
        "id": "9eAlI2hmLnqH"
      },
      "execution_count": null,
      "outputs": []
    },
    {
      "cell_type": "code",
      "source": [
        "import pandas as pd\n",
        "import re\n",
        "\n",
        "# Function to extract domain from email address\n",
        "def extract_domain(email):\n",
        "    return re.search(r\"@([\\w.-]+)\", email).group(1)\n",
        "\n",
        "# Function to perform keyword matching\n",
        "def keyword_match(email, domain, keywords):\n",
        "    for keyword in keywords:\n",
        "        if (keyword.lower() in email.lower()) or (keyword.lower() in domain.lower()):\n",
        "            return keyword\n",
        "    return None\n",
        "\n",
        "# Read Excel file and validate email addresses\n",
        "def process_excel_file(file_path):\n",
        "    # Read keywords from the second sheet\n",
        "    keywords_df = pd.read_excel(file_path, sheet_name='Keywords for matching', header=None)\n",
        "    keywords_str = ' '.join(keywords_df.iloc[1:].values.flatten().tolist())\n",
        "    keywords = [word.strip(\"'\") for word in keywords_str.split(', ')]\n",
        "\n",
        "    # Read emails from the first sheet\n",
        "    emails_df = pd.read_excel(file_path, sheet_name='ALL EMAILS', header=None)\n",
        "    emails = emails_df.iloc[1:].values.flatten().tolist()\n",
        "\n",
        "    # Initialize lists to store extracted data\n",
        "    data = []\n",
        "\n",
        "    # Extract domains and perform keyword matching\n",
        "    for email in emails:\n",
        "        domain = extract_domain(email)\n",
        "        keyword = keyword_match(email, domain, keywords)\n",
        "\n",
        "        if keyword:\n",
        "            data.append([keyword, domain, email])\n",
        "\n",
        "    # Create DataFrame\n",
        "    df = pd.DataFrame(data, columns=['Keyword', 'Domain', 'Email'])\n",
        "\n",
        "    return df\n",
        "\n",
        "# Example usage\n",
        "file_path = \"/content/100 Emails.xlsx\"\n",
        "result_df = process_excel_file(file_path)\n",
        "\n",
        "# Print the result DataFrame in table format\n",
        "print(\"Result:\")\n",
        "print(result_df.to_string(index=False))\n"
      ],
      "metadata": {
        "colab": {
          "base_uri": "https://localhost:8080/"
        },
        "id": "ZuJibYhYLqEh",
        "outputId": "aac92cb3-7fb0-44b8-c726-4125a0f6bc2d"
      },
      "execution_count": 28,
      "outputs": [
        {
          "output_type": "stream",
          "name": "stdout",
          "text": [
            "Result:\n",
            "Keyword                     Domain                                  Email\n",
            "    cap             altariscap.com              aaron.bell@altariscap.com\n",
            "capital         maranoncapital.com     aaron.simkovich@maranoncapital.com\n",
            "    cap             collidecap.com                   aaron@collidecap.com\n",
            "capital bostoncommunitycapital.org    abeattie@bostoncommunitycapital.org\n",
            "capital            baincapital.com                  aberg@baincapital.com\n",
            "   fund               caifunds.com                    ablack@caifunds.com\n",
            "    cap                 novacap.ca                acappabianca@novacap.ca\n",
            "capital           kaynecapital.com               acathey@kaynecapital.com\n",
            "capital     victoryparkcapital.com achandrasekhara@victoryparkcapital.com\n",
            "   fund                serafund.co                       adam@serafund.co\n",
            "     gp            stgpartners.com                   adam@stgpartners.com\n",
            "    cap             suncappart.com                 aharman@suncappart.com\n",
            "capital          capitalagroup.com               alewis@capitalagroup.com\n",
            " equity      platteriverequity.com         amahadik@platteriverequity.com\n",
            "capital           roarkcapital.com           amattipalli@roarkcapital.com\n",
            "capital        bowrivercapital.com             arnett@bowrivercapital.com\n",
            "capital           roarkcapital.com               asilbar@roarkcapital.com\n",
            "capital             higcapital.com                 atolson@higcapital.com\n",
            "capital        corsair-capital.com      avazkhodjayev@corsair-capital.com\n",
            "    par          lorempartners.com            cbartlett@lorempartners.com\n",
            "venture              ipventures.in             chintan.vyas@ipventures.in\n",
            "    par              cxpartners.in                   chirag@cxpartners.in\n",
            "capital       elevationcapital.com            chirag@elevationcapital.com\n",
            "capital     marunouchi-capital.com    chisato-nibe@marunouchi-capital.com\n",
            "   fund                   ngc.fund                  chris.miller@ngc.fund\n",
            "    par         integrapartners.co               chris@integrapartners.co\n",
            "venture        jungle-ventures.com              chris@jungle-ventures.com\n",
            "capital                fbg.capital                  chrisquan@fbg.capital\n",
            "    cap              sequoiacap.cn                    cmiao@sequoiacap.cn\n",
            "capital        tybournecapital.com            eashwar@tybournecapital.com\n",
            "   long                longhash.vc              emerson.liang@longhash.vc\n",
            "capital           citiccapital.com            emilcheung@citiccapital.com\n",
            "venture      darwin-venture.com.tw         emily.wu@darwin-venture.com.tw\n",
            "   long                longhash.vc                   emma.cui@longhash.vc\n",
            "capital           citiccapital.com               emmawan@citiccapital.com\n",
            "capital           ebcapital.com.cn                  info@ebcapital.com.cn\n",
            "    par   energyimpactpartners.com         james@energyimpactpartners.com\n",
            "venture         vickersventure.com            jeff.chi@vickersventure.com\n",
            "venture            saltventures.id                jeffrey@saltventures.id\n",
            "capital               gayo.capital              jefri.sirait@gayo.capital\n",
            "    par         integrapartners.co              jennie@integrapartners.co\n",
            "  angel              cavangels.com                rcrawford@cavangels.com\n",
            " invest       ciscoinvestments.com            rmenon@ciscoinvestments.com\n",
            " margin              newmargin.com                  shuiwen@newmargin.com\n",
            "    par      matrixpartners.com.cn       zhuang.liu@matrixpartners.com.cn\n",
            "capital          maisoncapital.com                   zz@maisoncapital.com\n"
          ]
        }
      ]
    }
  ]
}